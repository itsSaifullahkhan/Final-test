{
 "cells": [
  {
   "cell_type": "markdown",
   "id": "ca0d095b-583b-4c0b-b4da-01434961027e",
   "metadata": {},
   "source": [
    "### Question 2"
   ]
  },
  {
   "cell_type": "code",
   "execution_count": 21,
   "id": "ff6d0804-b101-4a74-9270-ff2a8ea0de5e",
   "metadata": {},
   "outputs": [],
   "source": [
    "class Book:\n",
    "    def __init__(self,title,author,isbn,is_borrowed):\n",
    "        self.title=title\n",
    "        self.author=author\n",
    "        self.isbn=isbn\n",
    "        self.is_borrowed=is_borrowed\n",
    "    def borrow(self):\n",
    "        self.is_borrowed=True\n",
    "        print(is_borrowed)\n",
    "    def return_book(self):\n",
    "        self.is_borrowed=False\n",
    "        print(is_borrowed)\n",
    "        \n",
    "class Digitalbook(Book):\n",
    "    def __init__(self,title,author,isbn,is_borrowed,file_format):\n",
    "        Book().__init__(self,title,author,isbn,is_borrowed)\n",
    "        self.file_format=file_format\n",
    "    def borrow(self):\n",
    "        print(\"book can be accessed\")\n",
    "\n",
    "class Audiobook(Digitalbook):\n",
    "    def __init__(self,title,author,isbn,is_borrowed,duration):\n",
    "        Digitalbook().__init__(self,title,author,isbn,is_borrowed)   \n",
    "        self.duration : float = duration\n",
    "    def Audiobook(self):\n",
    "        print(\"audiobook is available for streaming\")\n",
    "        \n",
    "        \n",
    "        \n",
    "    \n",
    "    "
   ]
  },
  {
   "cell_type": "code",
   "execution_count": 22,
   "id": "c8a56035-ea90-4d97-8dd1-838596f52d50",
   "metadata": {},
   "outputs": [],
   "source": [
    "from typing import List\n",
    "class user:\n",
    "    def __init__(self,user_id,name,borrowed_books):\n",
    "        self.user_id=user_id\n",
    "        self.name=name\n",
    "        self.borrowed_books=borrowed_books\n",
    "        \n",
    "    def borrow_books(self,book):\n",
    "        borrow_books=self.borrowed_books.append(book)\n",
    "    def return_book(self,book):\n",
    "        return_book=self.borrowed_books.remove(book)\n",
    "        print(\"return\")\n",
    "        "
   ]
  },
  {
   "cell_type": "code",
   "execution_count": 23,
   "id": "f4bceab7-6ebf-4ac4-b7f3-54d0da597ba6",
   "metadata": {},
   "outputs": [],
   "source": [
    "from typing import List\n",
    "class Liabrary:\n",
    "    def __init__(self,name,books,users):\n",
    "        self.name=name\n",
    "        self.books=books\n",
    "        self.users=users\n",
    "    def add_book(self,book):\n",
    "        add_book=self.books.append(book)\n",
    "        print(add_book)\n",
    "    def register_user(self,user):\n",
    "        user=self.users.apeend(user)\n",
    "        print(user)\n",
    "    def lend_book(user_id, isbn):\n",
    "        if self.book==available:\n",
    "            print(\"u can borrow book\")\n",
    "    def receive_return(user_id, isbn):\n",
    "        print(f\"{self.name} return {self.add_book}\")\n",
    "        "
   ]
  },
  {
   "cell_type": "markdown",
   "id": "2c63cb68-8014-4886-b8aa-f6085f8ea441",
   "metadata": {},
   "source": [
    "### Question 1"
   ]
  },
  {
   "cell_type": "code",
   "execution_count": 7,
   "id": "99d84291-ee87-40ed-984f-c5f328359c49",
   "metadata": {},
   "outputs": [],
   "source": [
    "def analyze_file(filename):\n",
    "    try:\n",
    "        file = open(filename, 'r')\n",
    "        text = file.read()\n",
    "        file.close()\n",
    "        lines = text.split('\\n')\n",
    "        words = text.split()\n",
    "        characters = len(text)\n",
    "        \n",
    "        return {'characters': characters,\n",
    "            'words': len(words),\n",
    "            'lines': len(lines) }\n",
    "    except FileNotFoundError:\n",
    "        print(\"File not found.\")\n",
    "        return None\n"
   ]
  },
  {
   "cell_type": "code",
   "execution_count": 8,
   "id": "431fbf3b-ee05-421d-b4ea-45258a5307aa",
   "metadata": {},
   "outputs": [
    {
     "data": {
      "text/plain": [
       "{'characters': 75, 'words': 11, 'lines': 3}"
      ]
     },
     "execution_count": 8,
     "metadata": {},
     "output_type": "execute_result"
    }
   ],
   "source": [
    "analyze_file(\"python.txt\")"
   ]
  },
  {
   "cell_type": "code",
   "execution_count": 2,
   "id": "8404d988-9722-456c-9eaf-bfaeb2c31dde",
   "metadata": {},
   "outputs": [],
   "source": [
    "def search_word(filename, word):\n",
    "    try:\n",
    "        file = open(filename, 'r')\n",
    "        text = file.read()\n",
    "        file.close()\n",
    "        \n",
    "        word_count = text.lower().count(word.lower())\n",
    "        return word_count\n",
    "    except FileNotFoundError:\n",
    "        print(\"File not found.\")\n",
    "        return None"
   ]
  },
  {
   "cell_type": "code",
   "execution_count": 9,
   "id": "7df5690f-7a6b-4922-ac7f-741707b28ea6",
   "metadata": {},
   "outputs": [
    {
     "data": {
      "text/plain": [
       "3"
      ]
     },
     "execution_count": 9,
     "metadata": {},
     "output_type": "execute_result"
    }
   ],
   "source": [
    "search_word(\"python.txt\",\"Saylani\")"
   ]
  },
  {
   "cell_type": "code",
   "execution_count": null,
   "id": "51ee8ff6-730d-41e5-8cfd-6cce722fc8cc",
   "metadata": {},
   "outputs": [],
   "source": []
  }
 ],
 "metadata": {
  "kernelspec": {
   "display_name": "Python 3 (ipykernel)",
   "language": "python",
   "name": "python3"
  },
  "language_info": {
   "codemirror_mode": {
    "name": "ipython",
    "version": 3
   },
   "file_extension": ".py",
   "mimetype": "text/x-python",
   "name": "python",
   "nbconvert_exporter": "python",
   "pygments_lexer": "ipython3",
   "version": "3.11.7"
  }
 },
 "nbformat": 4,
 "nbformat_minor": 5
}
